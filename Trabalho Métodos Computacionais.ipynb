{
 "cells": [
  {
   "cell_type": "code",
   "execution_count": 18,
   "id": "b8727312-ff12-442a-9c14-095cbf7da5f2",
   "metadata": {},
   "outputs": [],
   "source": [
    "import basedosdados as bd"
   ]
  },
  {
   "cell_type": "code",
   "execution_count": 23,
   "id": "2615fe58-ade3-4ce3-a619-b9ce5719ef6e",
   "metadata": {},
   "outputs": [],
   "source": [
    "# ! pip install -r requirements.txt"
   ]
  },
  {
   "cell_type": "code",
   "execution_count": 24,
   "id": "43c25bf4-fc8b-4cd9-bfc5-2a6eead0d804",
   "metadata": {},
   "outputs": [
    {
     "name": "stdout",
     "output_type": "stream",
     "text": [
      "Requirement already satisfied: basedosdados in c:\\users\\laism\\anaconda3\\lib\\site-packages (2.0.2)\n",
      "Requirement already satisfied: google-api-python-client<3.0,>=2.86 in c:\\users\\laism\\anaconda3\\lib\\site-packages (from basedosdados) (2.170.0)\n",
      "Requirement already satisfied: google-cloud-bigquery<4.0,>=3.10 in c:\\users\\laism\\anaconda3\\lib\\site-packages (from basedosdados) (3.34.0)\n",
      "Requirement already satisfied: google-cloud-bigquery-connection<2.0,>=1.12 in c:\\users\\laism\\anaconda3\\lib\\site-packages (from basedosdados) (1.18.2)\n",
      "Requirement already satisfied: google-cloud-bigquery-storage<3.0,>=2.19 in c:\\users\\laism\\anaconda3\\lib\\site-packages (from basedosdados) (2.32.0)\n",
      "Requirement already satisfied: google-cloud-storage<3.0,>=2.9 in c:\\users\\laism\\anaconda3\\lib\\site-packages (from basedosdados) (2.19.0)\n",
      "Requirement already satisfied: loguru<0.8.0,>=0.7.0 in c:\\users\\laism\\anaconda3\\lib\\site-packages (from basedosdados) (0.7.3)\n",
      "Requirement already satisfied: pandas<3.0,>=2.0 in c:\\users\\laism\\anaconda3\\lib\\site-packages (from basedosdados) (2.2.2)\n",
      "Requirement already satisfied: pandas-gbq>=0.19 in c:\\users\\laism\\anaconda3\\lib\\site-packages (from basedosdados) (0.29.0)\n",
      "Requirement already satisfied: pydata-google-auth<2.0,>=1.8 in c:\\users\\laism\\anaconda3\\lib\\site-packages (from basedosdados) (1.9.1)\n",
      "Requirement already satisfied: tomlkit<0.12,>=0.11 in c:\\users\\laism\\anaconda3\\lib\\site-packages (from basedosdados) (0.11.1)\n",
      "Requirement already satisfied: tqdm<5,>=4 in c:\\users\\laism\\anaconda3\\lib\\site-packages (from basedosdados) (4.66.5)\n",
      "Requirement already satisfied: httplib2<1.0.0,>=0.19.0 in c:\\users\\laism\\anaconda3\\lib\\site-packages (from google-api-python-client<3.0,>=2.86->basedosdados) (0.22.0)\n",
      "Requirement already satisfied: google-auth!=2.24.0,!=2.25.0,<3.0.0,>=1.32.0 in c:\\users\\laism\\anaconda3\\lib\\site-packages (from google-api-python-client<3.0,>=2.86->basedosdados) (2.40.2)\n",
      "Requirement already satisfied: google-auth-httplib2<1.0.0,>=0.2.0 in c:\\users\\laism\\anaconda3\\lib\\site-packages (from google-api-python-client<3.0,>=2.86->basedosdados) (0.2.0)\n",
      "Requirement already satisfied: google-api-core!=2.0.*,!=2.1.*,!=2.2.*,!=2.3.0,<3.0.0,>=1.31.5 in c:\\users\\laism\\anaconda3\\lib\\site-packages (from google-api-python-client<3.0,>=2.86->basedosdados) (2.24.2)\n",
      "Requirement already satisfied: uritemplate<5,>=3.0.1 in c:\\users\\laism\\anaconda3\\lib\\site-packages (from google-api-python-client<3.0,>=2.86->basedosdados) (4.1.1)\n",
      "Requirement already satisfied: google-cloud-core<3.0.0,>=2.4.1 in c:\\users\\laism\\anaconda3\\lib\\site-packages (from google-cloud-bigquery<4.0,>=3.10->basedosdados) (2.4.3)\n",
      "Requirement already satisfied: google-resumable-media<3.0.0,>=2.0.0 in c:\\users\\laism\\anaconda3\\lib\\site-packages (from google-cloud-bigquery<4.0,>=3.10->basedosdados) (2.7.2)\n",
      "Requirement already satisfied: packaging>=24.2.0 in c:\\users\\laism\\anaconda3\\lib\\site-packages (from google-cloud-bigquery<4.0,>=3.10->basedosdados) (25.0)\n",
      "Requirement already satisfied: python-dateutil<3.0.0,>=2.8.2 in c:\\users\\laism\\anaconda3\\lib\\site-packages (from google-cloud-bigquery<4.0,>=3.10->basedosdados) (2.9.0.post0)\n",
      "Requirement already satisfied: requests<3.0.0,>=2.21.0 in c:\\users\\laism\\anaconda3\\lib\\site-packages (from google-cloud-bigquery<4.0,>=3.10->basedosdados) (2.32.3)\n",
      "Requirement already satisfied: proto-plus<2.0.0,>=1.22.3 in c:\\users\\laism\\anaconda3\\lib\\site-packages (from google-cloud-bigquery-connection<2.0,>=1.12->basedosdados) (1.26.1)\n",
      "Requirement already satisfied: protobuf!=4.21.0,!=4.21.1,!=4.21.2,!=4.21.3,!=4.21.4,!=4.21.5,<7.0.0,>=3.20.2 in c:\\users\\laism\\anaconda3\\lib\\site-packages (from google-cloud-bigquery-connection<2.0,>=1.12->basedosdados) (5.29.5)\n",
      "Requirement already satisfied: grpc-google-iam-v1<1.0.0,>=0.14.0 in c:\\users\\laism\\anaconda3\\lib\\site-packages (from google-cloud-bigquery-connection<2.0,>=1.12->basedosdados) (0.14.2)\n",
      "Requirement already satisfied: google-crc32c<2.0dev,>=1.0 in c:\\users\\laism\\anaconda3\\lib\\site-packages (from google-cloud-storage<3.0,>=2.9->basedosdados) (1.7.1)\n",
      "Requirement already satisfied: colorama>=0.3.4 in c:\\users\\laism\\anaconda3\\lib\\site-packages (from loguru<0.8.0,>=0.7.0->basedosdados) (0.4.6)\n",
      "Requirement already satisfied: win32-setctime>=1.0.0 in c:\\users\\laism\\anaconda3\\lib\\site-packages (from loguru<0.8.0,>=0.7.0->basedosdados) (1.2.0)\n",
      "Requirement already satisfied: numpy>=1.26.0 in c:\\users\\laism\\anaconda3\\lib\\site-packages (from pandas<3.0,>=2.0->basedosdados) (1.26.4)\n",
      "Requirement already satisfied: pytz>=2020.1 in c:\\users\\laism\\anaconda3\\lib\\site-packages (from pandas<3.0,>=2.0->basedosdados) (2024.1)\n",
      "Requirement already satisfied: tzdata>=2022.7 in c:\\users\\laism\\anaconda3\\lib\\site-packages (from pandas<3.0,>=2.0->basedosdados) (2023.3)\n",
      "Requirement already satisfied: setuptools in c:\\users\\laism\\anaconda3\\lib\\site-packages (from pandas-gbq>=0.19->basedosdados) (75.1.0)\n",
      "Requirement already satisfied: db-dtypes<2.0.0,>=1.0.4 in c:\\users\\laism\\anaconda3\\lib\\site-packages (from pandas-gbq>=0.19->basedosdados) (1.4.3)\n",
      "Requirement already satisfied: pyarrow>=4.0.0 in c:\\users\\laism\\anaconda3\\lib\\site-packages (from pandas-gbq>=0.19->basedosdados) (16.1.0)\n",
      "Requirement already satisfied: google-auth-oauthlib>=0.7.0 in c:\\users\\laism\\anaconda3\\lib\\site-packages (from pandas-gbq>=0.19->basedosdados) (1.2.2)\n",
      "Requirement already satisfied: googleapis-common-protos<2.0.0,>=1.56.2 in c:\\users\\laism\\anaconda3\\lib\\site-packages (from google-api-core!=2.0.*,!=2.1.*,!=2.2.*,!=2.3.0,<3.0.0,>=1.31.5->google-api-python-client<3.0,>=2.86->basedosdados) (1.70.0)\n",
      "Requirement already satisfied: grpcio<2.0dev,>=1.33.2 in c:\\users\\laism\\anaconda3\\lib\\site-packages (from google-api-core[grpc]<3.0.0,>=2.11.1->google-cloud-bigquery<4.0,>=3.10->basedosdados) (1.71.0)\n",
      "Requirement already satisfied: grpcio-status<2.0.dev0,>=1.33.2 in c:\\users\\laism\\anaconda3\\lib\\site-packages (from google-api-core[grpc]<3.0.0,>=2.11.1->google-cloud-bigquery<4.0,>=3.10->basedosdados) (1.71.0)\n",
      "Requirement already satisfied: cachetools<6.0,>=2.0.0 in c:\\users\\laism\\anaconda3\\lib\\site-packages (from google-auth!=2.24.0,!=2.25.0,<3.0.0,>=1.32.0->google-api-python-client<3.0,>=2.86->basedosdados) (5.3.3)\n",
      "Requirement already satisfied: pyasn1-modules>=0.2.1 in c:\\users\\laism\\anaconda3\\lib\\site-packages (from google-auth!=2.24.0,!=2.25.0,<3.0.0,>=1.32.0->google-api-python-client<3.0,>=2.86->basedosdados) (0.2.8)\n",
      "Requirement already satisfied: rsa<5,>=3.1.4 in c:\\users\\laism\\anaconda3\\lib\\site-packages (from google-auth!=2.24.0,!=2.25.0,<3.0.0,>=1.32.0->google-api-python-client<3.0,>=2.86->basedosdados) (4.9.1)\n",
      "Requirement already satisfied: requests-oauthlib>=0.7.0 in c:\\users\\laism\\anaconda3\\lib\\site-packages (from google-auth-oauthlib>=0.7.0->pandas-gbq>=0.19->basedosdados) (2.0.0)\n",
      "Requirement already satisfied: pyparsing!=3.0.0,!=3.0.1,!=3.0.2,!=3.0.3,<4,>=2.4.2 in c:\\users\\laism\\anaconda3\\lib\\site-packages (from httplib2<1.0.0,>=0.19.0->google-api-python-client<3.0,>=2.86->basedosdados) (3.1.2)\n",
      "Requirement already satisfied: six>=1.5 in c:\\users\\laism\\anaconda3\\lib\\site-packages (from python-dateutil<3.0.0,>=2.8.2->google-cloud-bigquery<4.0,>=3.10->basedosdados) (1.16.0)\n",
      "Requirement already satisfied: charset-normalizer<4,>=2 in c:\\users\\laism\\anaconda3\\lib\\site-packages (from requests<3.0.0,>=2.21.0->google-cloud-bigquery<4.0,>=3.10->basedosdados) (3.3.2)\n",
      "Requirement already satisfied: idna<4,>=2.5 in c:\\users\\laism\\anaconda3\\lib\\site-packages (from requests<3.0.0,>=2.21.0->google-cloud-bigquery<4.0,>=3.10->basedosdados) (3.7)\n",
      "Requirement already satisfied: urllib3<3,>=1.21.1 in c:\\users\\laism\\anaconda3\\lib\\site-packages (from requests<3.0.0,>=2.21.0->google-cloud-bigquery<4.0,>=3.10->basedosdados) (2.2.3)\n",
      "Requirement already satisfied: certifi>=2017.4.17 in c:\\users\\laism\\anaconda3\\lib\\site-packages (from requests<3.0.0,>=2.21.0->google-cloud-bigquery<4.0,>=3.10->basedosdados) (2025.4.26)\n",
      "Requirement already satisfied: pyasn1<0.5.0,>=0.4.6 in c:\\users\\laism\\anaconda3\\lib\\site-packages (from pyasn1-modules>=0.2.1->google-auth!=2.24.0,!=2.25.0,<3.0.0,>=1.32.0->google-api-python-client<3.0,>=2.86->basedosdados) (0.4.8)\n",
      "Requirement already satisfied: oauthlib>=3.0.0 in c:\\users\\laism\\anaconda3\\lib\\site-packages (from requests-oauthlib>=0.7.0->google-auth-oauthlib>=0.7.0->pandas-gbq>=0.19->basedosdados) (3.2.2)\n"
     ]
    }
   ],
   "source": [
    "! pip install basedosdados"
   ]
  },
  {
   "cell_type": "code",
   "execution_count": 25,
   "id": "69f14471-6fa8-4ebf-aaa9-c58fcbf8e524",
   "metadata": {},
   "outputs": [],
   "source": [
    "# $ basedosdados config"
   ]
  },
  {
   "cell_type": "code",
   "execution_count": 27,
   "id": "b380049b-36a4-421a-9704-edf73a1af4de",
   "metadata": {},
   "outputs": [],
   "source": [
    "from google.cloud import bigquery"
   ]
  },
  {
   "cell_type": "code",
   "execution_count": 33,
   "id": "1884b7ca-a438-410f-af16-94efefa367c8",
   "metadata": {},
   "outputs": [],
   "source": [
    "# ?bd.list_datasets"
   ]
  },
  {
   "cell_type": "code",
   "execution_count": 34,
   "id": "a3952d89-8594-42be-aeec-c8a7eaba85a6",
   "metadata": {},
   "outputs": [
    {
     "ename": "AttributeError",
     "evalue": "module 'basedosdados' has no attribute 'get_table_columns'",
     "output_type": "error",
     "traceback": [
      "\u001b[1;31m---------------------------------------------------------------------------\u001b[0m",
      "\u001b[1;31mAttributeError\u001b[0m                            Traceback (most recent call last)",
      "Cell \u001b[1;32mIn[34], line 2\u001b[0m\n\u001b[0;32m      1\u001b[0m \u001b[38;5;66;03m# ?bd.get_table_columns\u001b[39;00m\n\u001b[1;32m----> 2\u001b[0m bd\u001b[38;5;241m.\u001b[39mget_table_columns(\n\u001b[0;32m      3\u001b[0m     dataset_id\u001b[38;5;241m=\u001b[39m\u001b[38;5;124m\"\u001b[39m\u001b[38;5;124mbr_inpe_prodes\u001b[39m\u001b[38;5;124m\"\u001b[39m,\n\u001b[0;32m      4\u001b[0m     table_id\u001b[38;5;241m=\u001b[39m\u001b[38;5;124m\"\u001b[39m\u001b[38;5;124mdesmatamento_municipios\u001b[39m\u001b[38;5;124m\"\u001b[39m)\n",
      "\u001b[1;31mAttributeError\u001b[0m: module 'basedosdados' has no attribute 'get_table_columns'"
     ]
    }
   ],
   "source": [
    "# ?bd.get_table_columns\n",
    "bd.get_table_columns(\n",
    "    dataset_id=\"br_inpe_prodes\",\n",
    "    table_id=\"desmatamento_municipios\")"
   ]
  },
  {
   "cell_type": "code",
   "execution_count": null,
   "id": "e6bf4984-214e-43b4-866c-8442edbc84ee",
   "metadata": {},
   "outputs": [],
   "source": []
  }
 ],
 "metadata": {
  "kernelspec": {
   "display_name": "Python [conda env:base] *",
   "language": "python",
   "name": "conda-base-py"
  },
  "language_info": {
   "codemirror_mode": {
    "name": "ipython",
    "version": 3
   },
   "file_extension": ".py",
   "mimetype": "text/x-python",
   "name": "python",
   "nbconvert_exporter": "python",
   "pygments_lexer": "ipython3",
   "version": "3.12.7"
  }
 },
 "nbformat": 4,
 "nbformat_minor": 5
}
